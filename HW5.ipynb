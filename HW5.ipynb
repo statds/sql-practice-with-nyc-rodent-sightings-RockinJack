{
 "cells": [
  {
   "cell_type": "markdown",
   "metadata": {},
   "source": [
    "Jack Dennison\n",
    "\n",
    "Question 1"
   ]
  },
  {
   "cell_type": "code",
   "execution_count": 1,
   "metadata": {},
   "outputs": [
    {
     "data": {
      "text/plain": [
       "<sqlite3.Cursor at 0x104fde3c0>"
      ]
     },
     "execution_count": 1,
     "metadata": {},
     "output_type": "execute_result"
    }
   ],
   "source": [
    "import sqlite3\n",
    "import csv\n",
    "\n",
    "# Step 1: Create SQLite database and cursor\n",
    "conn = sqlite3.connect('rodent_agency.db')\n",
    "cursor = conn.cursor()\n",
    "cursor.execute('''DROP TABLE IF EXISTS rodent''')\n"
   ]
  },
  {
   "cell_type": "code",
   "execution_count": 3,
   "metadata": {},
   "outputs": [
    {
     "data": {
      "text/plain": [
       "<sqlite3.Cursor at 0x104fde3c0>"
      ]
     },
     "execution_count": 3,
     "metadata": {},
     "output_type": "execute_result"
    }
   ],
   "source": [
    "cursor.execute('''\n",
    "    CREATE TABLE rodent (\n",
    "        Unique_Key TEXT PRIMARY KEY,\n",
    "        Created_Date TEXT,\n",
    "        Closed_Date TEXT,\n",
    "        Agency TEXT,\n",
    "        Complaint_Type TEXT,\n",
    "        Descriptor TEXT,\n",
    "        Location_Type TEXT,\n",
    "        Incident_Zip TEXT,\n",
    "        Incident_Address TEXT,\n",
    "        Cross_Street_1 TEXT,\n",
    "        Cross_Street_2 TEXT,\n",
    "        Status TEXT,\n",
    "        Resolution_Description TEXT,\n",
    "        Community_Board TEXT,\n",
    "        BBL TEXT,\n",
    "        Borough TEXT,\n",
    "        X_Coordinate_State_Plane TEXT,\n",
    "        Y_Coordinate_State_Plane TEXT,\n",
    "        Open_Data_Channel_Type TEXT,\n",
    "        Latitude TEXT,\n",
    "        Longitude TEXT,\n",
    "        Location TEXT,\n",
    "        Community_Districts TEXT,\n",
    "        Borough_Boundaries TEXT,\n",
    "        City_Council_Districts TEXT,\n",
    "        Police_Precincts TEXT\n",
    "    )\n",
    "''')"
   ]
  },
  {
   "cell_type": "code",
   "execution_count": 4,
   "metadata": {},
   "outputs": [],
   "source": [
    "with open('/Users/jackdennison/rodent-sighting-data-cleaning-RockinJack/HW4_rodents.csv', 'r', encoding='utf-8-sig') as file:\n",
    "    reader = csv.DictReader(file)\n",
    "    for row in reader:\n",
    "        cursor.execute('''\n",
    "            INSERT INTO rodent (\n",
    "                Unique_Key, Created_Date, Closed_Date, Agency, Complaint_Type,\n",
    "                Descriptor, Location_Type, Incident_Zip, Incident_Address,\n",
    "                Cross_Street_1, Cross_Street_2, Status, Resolution_Description,\n",
    "                Community_Board, BBL, Borough, X_Coordinate_State_Plane,\n",
    "                Y_Coordinate_State_Plane, Open_Data_Channel_Type, Latitude,\n",
    "                Longitude, Location, Community_Districts, Borough_Boundaries,\n",
    "                City_Council_Districts, Police_Precincts\n",
    "            ) VALUES (?, ?, ?, ?, ?, ?, ?, ?, ?, ?, ?, ?, ?, ?, ?, ?, ?, ?, ?, ?, ?, ?, ?, ?, ?, ?)\n",
    "        ''', (\n",
    "            row['Unique Key'], row['Created Date'], row['Closed Date'], row['Agency'],\n",
    "            row['Complaint Type'], row['Descriptor'], row['Location Type'], row['Incident Zip'],\n",
    "            row['Incident Address'], row['Cross Street 1'], row['Cross Street 2'], row['Status'],\n",
    "            row['Resolution Description'], row['Community Board'], row['BBL'], row['Borough'],\n",
    "            row['X Coordinate (State Plane)'], row['Y Coordinate (State Plane)'],\n",
    "            row['Open Data Channel Type'], row['Latitude'], row['Longitude'], row['Location'],\n",
    "            row['Community Districts'], row['Borough Boundaries'], row['City Council Districts'],\n",
    "            row['Police Precincts']\n",
    "        ))"
   ]
  }
 ],
 "metadata": {
  "kernelspec": {
   "display_name": "homework1",
   "language": "python",
   "name": "python3"
  },
  "language_info": {
   "codemirror_mode": {
    "name": "ipython",
    "version": 3
   },
   "file_extension": ".py",
   "mimetype": "text/x-python",
   "name": "python",
   "nbconvert_exporter": "python",
   "pygments_lexer": "ipython3",
   "version": "3.10.0"
  }
 },
 "nbformat": 4,
 "nbformat_minor": 2
}
