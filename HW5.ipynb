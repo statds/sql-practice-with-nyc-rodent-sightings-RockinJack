{
 "cells": [
  {
   "cell_type": "markdown",
   "metadata": {},
   "source": [
    "Jack Dennison\n",
    "\n",
    "Question 1"
   ]
  },
  {
   "cell_type": "code",
   "execution_count": 8,
   "metadata": {},
   "outputs": [
    {
     "data": {
      "text/plain": [
       "82869"
      ]
     },
     "execution_count": 8,
     "metadata": {},
     "output_type": "execute_result"
    }
   ],
   "source": [
    "import pandas as pd\n",
    "\n",
    "csv = '/Users/jackdennison/Downloads/rodent_2022-2023.csv'\n",
    "df = pd.read_csv(csv)\n",
    "df.to_sql(\"rodents\", con=sqlite3.connect(\"./311_rodents.sqlite\"), if_exists=\"replace\")\n"
   ]
  },
  {
   "cell_type": "code",
   "execution_count": null,
   "metadata": {},
   "outputs": [
    {
     "data": {
      "text/plain": [
       "<sqlite3.Cursor at 0x1095259c0>"
      ]
     },
     "execution_count": 3,
     "metadata": {},
     "output_type": "execute_result"
    }
   ],
   "source": [
    "cursor.execute('''\n",
    "    CREATE TABLE rodent (\n",
    "        Unique_Key TEXT PRIMARY KEY,\n",
    "        Created_Date TEXT,\n",
    "        Closed_Date TEXT,\n",
    "        Agency TEXT,\n",
    "        Agency_Name TEXT,\n",
    "        Complaint_Type TEXT,\n",
    "        Descriptor TEXT,\n",
    "        Location_Type TEXT,\n",
    "        Incident_Zip TEXT,\n",
    "        Incident_Address TEXT,\n",
    "        Cross_Street_1 TEXT,\n",
    "        Cross_Street_2 TEXT,\n",
    "        Status TEXT,\n",
    "        Resolution_Description TEXT,\n",
    "        Community_Board TEXT,\n",
    "        BBL TEXT,\n",
    "        Borough TEXT,\n",
    "        X_Coordinate_State_Plane TEXT,\n",
    "        Y_Coordinate_State_Plane TEXT,\n",
    "        Open_Data_Channel_Type TEXT,\n",
    "        Latitude TEXT,\n",
    "        Longitude TEXT,\n",
    "        Location TEXT,\n",
    "        Community_Districts TEXT,\n",
    "        Borough_Boundaries TEXT,\n",
    "        City_Council_Districts TEXT,\n",
    "        Police_Precincts TEXT\n",
    "    )\n",
    "''')"
   ]
  },
  {
   "cell_type": "code",
   "execution_count": null,
   "metadata": {},
   "outputs": [],
   "source": [
    "with open('/Users/jackdennison/Downloads/rodent_2022-2023.csv', 'r', encoding='utf-8-sig') as file:\n",
    "    reader = csv.DictReader(file)\n",
    "    for row in reader:\n",
    "        cursor.execute('''\n",
    "            INSERT INTO rodent (\n",
    "                Unique_Key, Created_Date, Closed_Date, Agency, Agency_Name, Complaint_Type,\n",
    "                Descriptor, Location_Type, Incident_Zip, Incident_Address,\n",
    "                Cross_Street_1, Cross_Street_2, Status, Resolution_Description,\n",
    "                Community_Board, BBL, Borough, X_Coordinate_State_Plane,\n",
    "                Y_Coordinate_State_Plane, Open_Data_Channel_Type, Latitude,\n",
    "                Longitude, Location, Community_Districts, Borough_Boundaries,\n",
    "                City_Council_Districts, Police_Precincts\n",
    "            ) VALUES (?, ?, ?, ?, ?, ?, ?, ?, ?, ?, ?, ?, ?, ?, ?, ?, ?, ?, ?, ?, ?, ?, ?, ?, ?, ?)\n",
    "        ''', (\n",
    "            row['Unique Key'], row['Created Date'], row['Closed Date'], row['Agency'], row['Agency Name'],\n",
    "            row['Complaint Type'], row['Descriptor'], row['Location Type'], row['Incident Zip'],\n",
    "            row['Incident Address'], row['Cross Street 1'], row['Cross Street 2'], row['Status'],\n",
    "            row['Resolution Description'], row['Community Board'], row['BBL'], row['Borough'],\n",
    "            row['X Coordinate (State Plane)'], row['Y Coordinate (State Plane)'],\n",
    "            row['Open Data Channel Type'], row['Latitude'], row['Longitude'], row['Location'],\n",
    "            row['Community Districts'], row['Borough Boundaries'], row['City Council Districts'],\n",
    "            row['Police Precincts']\n",
    "        ))"
   ]
  },
  {
   "cell_type": "markdown",
   "metadata": {},
   "source": [
    "Question 2:"
   ]
  },
  {
   "cell_type": "code",
   "execution_count": null,
   "metadata": {},
   "outputs": [
    {
     "ename": "OperationalError",
     "evalue": "database is locked",
     "output_type": "error",
     "traceback": [
      "\u001b[0;31m---------------------------------------------------------------------------\u001b[0m",
      "\u001b[0;31mOperationalError\u001b[0m                          Traceback (most recent call last)",
      "Input \u001b[0;32mIn [6]\u001b[0m, in \u001b[0;36m<cell line: 1>\u001b[0;34m()\u001b[0m\n\u001b[0;32m----> 1\u001b[0m \u001b[43mcursor\u001b[49m\u001b[38;5;241;43m.\u001b[39;49m\u001b[43mexecute\u001b[49m\u001b[43m(\u001b[49m\u001b[38;5;124;43m'''\u001b[39;49m\n\u001b[1;32m      2\u001b[0m \u001b[38;5;124;43m    CREATE TABLE agency (\u001b[39;49m\n\u001b[1;32m      3\u001b[0m \u001b[38;5;124;43m        id INTEGER PRIMARY KEY,\u001b[39;49m\n\u001b[1;32m      4\u001b[0m \u001b[38;5;124;43m        agency TEXT,\u001b[39;49m\n\u001b[1;32m      5\u001b[0m \u001b[38;5;124;43m        agency_name TEXT\u001b[39;49m\n\u001b[1;32m      6\u001b[0m \u001b[38;5;124;43m    )\u001b[39;49m\n\u001b[1;32m      7\u001b[0m \u001b[38;5;124;43m'''\u001b[39;49m\u001b[43m)\u001b[49m\n\u001b[1;32m      8\u001b[0m cursor\u001b[38;5;241m.\u001b[39mexecute(\u001b[38;5;124m'''\u001b[39m\n\u001b[1;32m      9\u001b[0m \u001b[38;5;124m    INSERT INTO agency (agency, agency_name)\u001b[39m\n\u001b[1;32m     10\u001b[0m \u001b[38;5;124m    SELECT DISTINCT agency, agency_name FROM rodent\u001b[39m\n\u001b[1;32m     11\u001b[0m \u001b[38;5;124m'''\u001b[39m)\n",
      "\u001b[0;31mOperationalError\u001b[0m: database is locked"
     ]
    }
   ],
   "source": [
    "cursor.execute('''\n",
    "    CREATE TABLE agency (\n",
    "        id INTEGER PRIMARY KEY,\n",
    "        agency TEXT,\n",
    "        agency_name TEXT\n",
    "    )\n",
    "''')\n",
    "cursor.execute('''\n",
    "    INSERT INTO agency (agency, agency_name)\n",
    "    SELECT DISTINCT agency, agency_name FROM rodent\n",
    "''')\n"
   ]
  }
 ],
 "metadata": {
  "kernelspec": {
   "display_name": "homework1",
   "language": "python",
   "name": "python3"
  },
  "language_info": {
   "codemirror_mode": {
    "name": "ipython",
    "version": 3
   },
   "file_extension": ".py",
   "mimetype": "text/x-python",
   "name": "python",
   "nbconvert_exporter": "python",
   "pygments_lexer": "ipython3",
   "version": "3.10.0"
  }
 },
 "nbformat": 4,
 "nbformat_minor": 2
}
